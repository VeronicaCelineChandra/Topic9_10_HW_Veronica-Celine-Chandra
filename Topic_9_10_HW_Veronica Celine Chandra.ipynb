{
 "cells": [
  {
   "cell_type": "code",
   "execution_count": 1,
   "metadata": {
    "id": "TKkUwBbGAiuL"
   },
   "outputs": [],
   "source": [
    "import scipy.stats as stats\n",
    "import pandas as pd\n",
    "import numpy as np"
   ]
  },
  {
   "cell_type": "code",
   "execution_count": 2,
   "metadata": {
    "id": "gxXv47A0B5c_"
   },
   "outputs": [],
   "source": [
    "data = [100, 150, 50, 100, 130, 120, 100, 110, 75, 65, 150, 120, 50, 100, 100, 140, 90, 150, 50, 90]"
   ]
  },
  {
   "cell_type": "markdown",
   "metadata": {
    "id": "UegxWRH_Q1sP"
   },
   "source": [
    "## Define H0 & H1"
   ]
  },
  {
   "cell_type": "markdown",
   "metadata": {
    "id": "P2teRcSLMb6s"
   },
   "source": [
    "##### H0 -> Mean of Transaction amount = 100\n",
    "##### H1 -> Mean of Transaction amount ≠ 100"
   ]
  },
  {
   "cell_type": "code",
   "execution_count": 3,
   "metadata": {
    "colab": {
     "base_uri": "https://localhost:8080/"
    },
    "id": "pts-TS7AIcAx",
    "outputId": "af5bcd30-678e-46f9-ed1b-1294b2306659"
   },
   "outputs": [
    {
     "data": {
      "text/plain": [
       "Ttest_1sampResult(statistic=0.27316577116663854, pvalue=0.7876728941695149)"
      ]
     },
     "execution_count": 3,
     "metadata": {},
     "output_type": "execute_result"
    }
   ],
   "source": [
    "stats.ttest_1samp(a = data, popmean = 100)"
   ]
  },
  {
   "cell_type": "markdown",
   "metadata": {
    "id": "ZSXJFDK3MHt8"
   },
   "source": [
    "##### T-test statistics = 0.2731657711666385\n",
    "##### P-Value = 0.787672894169515"
   ]
  },
  {
   "cell_type": "markdown",
   "metadata": {
    "id": "bmBctX0vM6dn"
   },
   "source": [
    "Jika menggunakan alpha = 5%, maka kesimpulan yang bisa ditarik adalak P-Value > alpha, yang berarti kita gagal untuk menolak H0\n",
    "\n",
    "Conclusion -> **The mean of Transaction amount is equal to 100**"
   ]
  },
  {
   "cell_type": "markdown",
   "metadata": {
    "id": "s29k6ERLNQbp"
   },
   "source": [
    "Namun bila ingin menggunakan niali t-statistic, maka perlu dicari nilai critical region terlebih dahulu"
   ]
  },
  {
   "cell_type": "markdown",
   "metadata": {
    "id": "1kRJfUtuQv_e"
   },
   "source": [
    "## Two Tailed Test"
   ]
  },
  {
   "cell_type": "code",
   "execution_count": 4,
   "metadata": {
    "colab": {
     "base_uri": "https://localhost:8080/"
    },
    "id": "ORl1nK-HJrNj",
    "outputId": "63f631ab-ed06-486b-f026-b4e4a70b28ff"
   },
   "outputs": [
    {
     "data": {
      "text/plain": [
       "2.093024054408263"
      ]
     },
     "execution_count": 4,
     "metadata": {},
     "output_type": "execute_result"
    }
   ],
   "source": [
    "# Two tailed test\n",
    "\n",
    "stats.t.ppf(1-(0.05/2), 19)"
   ]
  },
  {
   "cell_type": "markdown",
   "metadata": {
    "id": "HG9vsjaqN7yC"
   },
   "source": [
    "##### Critical region: t < -2.093 atau t > 2.093\n",
    "Karena nilai t-statistic tidak berada pada critical region, maka kita gagal untuk menolak H0.\n",
    "\n",
    "Conclusion -> **The mean of Transaction amount is equal to 100**\n",
    "\n"
   ]
  },
  {
   "cell_type": "markdown",
   "metadata": {
    "id": "7HuQowOgQyt6"
   },
   "source": [
    "## One Tailed Test"
   ]
  },
  {
   "cell_type": "code",
   "execution_count": 5,
   "metadata": {
    "colab": {
     "base_uri": "https://localhost:8080/"
    },
    "id": "jbjdGXZTNjTv",
    "outputId": "ec35ded7-782d-438d-b9ed-5abb81db2cc7"
   },
   "outputs": [
    {
     "data": {
      "text/plain": [
       "0.3938364470847575"
      ]
     },
     "execution_count": 5,
     "metadata": {},
     "output_type": "execute_result"
    }
   ],
   "source": [
    "# One tailed test\n",
    "\n",
    "0.787672894169515/2"
   ]
  },
  {
   "cell_type": "markdown",
   "metadata": {
    "id": "ji_LBcblPDWw"
   },
   "source": [
    "Jika menggunakan alpha = 5%, maka kesimpulan yang bisa ditarik adalak P-Value/2 > alpha, yang berarti kita gagal untuk menolak H0\n",
    "\n",
    "Conclusion -> The mean of Transaction amount is equal to 100"
   ]
  },
  {
   "cell_type": "code",
   "execution_count": 6,
   "metadata": {
    "colab": {
     "base_uri": "https://localhost:8080/"
    },
    "id": "dx_P1DeUPBRT",
    "outputId": "e28b9444-1084-48f2-cf17-705baf888fb8"
   },
   "outputs": [
    {
     "data": {
      "text/plain": [
       "1.729132811521367"
      ]
     },
     "execution_count": 6,
     "metadata": {},
     "output_type": "execute_result"
    }
   ],
   "source": [
    "# H1 -> Mean of Transaction amount > 100 (Right side)\n",
    "\n",
    "stats.t.ppf(1-0.05, 19)"
   ]
  },
  {
   "cell_type": "markdown",
   "metadata": {
    "id": "L89ch3qMPdxb"
   },
   "source": [
    "##### Critical Region: t > 1.729\n",
    "Karena nilai t-statistic tidak berada pada critical region, maka kita gagal untuk menolak H0.\n",
    "\n",
    "Conclusion -> The mean of Transaction amount is equal to 100"
   ]
  },
  {
   "cell_type": "code",
   "execution_count": 7,
   "metadata": {
    "colab": {
     "base_uri": "https://localhost:8080/"
    },
    "id": "_xcf7Db0PbqJ",
    "outputId": "a301a028-d114-4655-87b2-892af24970cb"
   },
   "outputs": [
    {
     "data": {
      "text/plain": [
       "-1.7291328115213678"
      ]
     },
     "execution_count": 7,
     "metadata": {},
     "output_type": "execute_result"
    }
   ],
   "source": [
    "# H1 -> Mean of Transaction amount < 100 (Left side)\n",
    "\n",
    "stats.t.ppf(0.05, 19)"
   ]
  },
  {
   "cell_type": "markdown",
   "metadata": {
    "id": "SwPPTTn3P-HU"
   },
   "source": [
    "##### Critical Region: t < -1.729\n",
    "Karena nilai t-statistic tidak berada pada critical region, maka kita gagal untuk menolak H0.\n",
    "\n",
    "Conclusion -> The mean of Transaction amount is equal to 100"
   ]
  }
 ],
 "metadata": {
  "colab": {
   "provenance": []
  },
  "kernelspec": {
   "display_name": "Python 3 (ipykernel)",
   "language": "python",
   "name": "python3"
  },
  "language_info": {
   "codemirror_mode": {
    "name": "ipython",
    "version": 3
   },
   "file_extension": ".py",
   "mimetype": "text/x-python",
   "name": "python",
   "nbconvert_exporter": "python",
   "pygments_lexer": "ipython3",
   "version": "3.10.7"
  }
 },
 "nbformat": 4,
 "nbformat_minor": 1
}
